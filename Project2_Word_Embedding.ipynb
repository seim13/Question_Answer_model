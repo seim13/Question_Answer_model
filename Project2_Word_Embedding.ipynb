{
 "cells": [
  {
   "cell_type": "markdown",
   "metadata": {},
   "source": [
    "# Part 1 word embedding model"
   ]
  },
  {
   "cell_type": "code",
   "execution_count": null,
   "metadata": {},
   "outputs": [],
   "source": [
    "!pip3 install wget"
   ]
  },
  {
   "cell_type": "code",
   "execution_count": 1,
   "metadata": {},
   "outputs": [],
   "source": [
    "import wget"
   ]
  },
  {
   "cell_type": "code",
   "execution_count": null,
   "metadata": {},
   "outputs": [],
   "source": [
    "import wget\n",
    "url = 'https://rajpurkar.github.io/SQuAD-explorer/dataset/train-v2.0.json'\n",
    "filename = wget.download(url)"
   ]
  },
  {
   "cell_type": "code",
   "execution_count": 1,
   "metadata": {},
   "outputs": [],
   "source": [
    "import json  \n",
    "with open('train-v2.0.json', 'r') as f:    \n",
    "    train_data = json.load(f)\n",
    "    "
   ]
  },
  {
   "cell_type": "code",
   "execution_count": 2,
   "metadata": {},
   "outputs": [],
   "source": [
    "train_data=[item for topic in train_data['data'] for item in topic['paragraphs']]"
   ]
  },
  {
   "cell_type": "code",
   "execution_count": 3,
   "metadata": {},
   "outputs": [],
   "source": [
    "from pandas.io.json import json_normalize\n",
    "import pandas as pd"
   ]
  },
  {
   "cell_type": "code",
   "execution_count": 5,
   "metadata": {},
   "outputs": [],
   "source": [
    "df = pd.DataFrame.from_dict(json_normalize(train_data), orient='columns')"
   ]
  },
  {
   "cell_type": "code",
   "execution_count": 6,
   "metadata": {},
   "outputs": [
    {
     "data": {
      "text/html": [
       "<div>\n",
       "<style scoped>\n",
       "    .dataframe tbody tr th:only-of-type {\n",
       "        vertical-align: middle;\n",
       "    }\n",
       "\n",
       "    .dataframe tbody tr th {\n",
       "        vertical-align: top;\n",
       "    }\n",
       "\n",
       "    .dataframe thead th {\n",
       "        text-align: right;\n",
       "    }\n",
       "</style>\n",
       "<table border=\"1\" class=\"dataframe\">\n",
       "  <thead>\n",
       "    <tr style=\"text-align: right;\">\n",
       "      <th></th>\n",
       "      <th>context</th>\n",
       "      <th>qas</th>\n",
       "    </tr>\n",
       "  </thead>\n",
       "  <tbody>\n",
       "    <tr>\n",
       "      <th>0</th>\n",
       "      <td>Beyoncé Giselle Knowles-Carter (/biːˈjɒnseɪ/ b...</td>\n",
       "      <td>[{'question': 'When did Beyonce start becoming...</td>\n",
       "    </tr>\n",
       "    <tr>\n",
       "      <th>1</th>\n",
       "      <td>Following the disbandment of Destiny's Child i...</td>\n",
       "      <td>[{'question': 'After her second solo album, wh...</td>\n",
       "    </tr>\n",
       "    <tr>\n",
       "      <th>2</th>\n",
       "      <td>A self-described \"modern-day feminist\", Beyonc...</td>\n",
       "      <td>[{'question': 'In her music, what are some rec...</td>\n",
       "    </tr>\n",
       "    <tr>\n",
       "      <th>3</th>\n",
       "      <td>Beyoncé Giselle Knowles was born in Houston, T...</td>\n",
       "      <td>[{'question': 'Beyonce's younger sibling also ...</td>\n",
       "    </tr>\n",
       "    <tr>\n",
       "      <th>4</th>\n",
       "      <td>Beyoncé attended St. Mary's Elementary School ...</td>\n",
       "      <td>[{'question': 'What town did Beyonce go to sch...</td>\n",
       "    </tr>\n",
       "    <tr>\n",
       "      <th>5</th>\n",
       "      <td>At age eight, Beyoncé and childhood friend Kel...</td>\n",
       "      <td>[{'question': 'Who decided to place Beyonce's ...</td>\n",
       "    </tr>\n",
       "    <tr>\n",
       "      <th>6</th>\n",
       "      <td>The group changed their name to Destiny's Chil...</td>\n",
       "      <td>[{'question': 'Which film featured Destiny's C...</td>\n",
       "    </tr>\n",
       "    <tr>\n",
       "      <th>7</th>\n",
       "      <td>LeToya Luckett and Roberson became unhappy wit...</td>\n",
       "      <td>[{'question': 'What mental health issue did Be...</td>\n",
       "    </tr>\n",
       "    <tr>\n",
       "      <th>8</th>\n",
       "      <td>The remaining band members recorded \"Independe...</td>\n",
       "      <td>[{'question': '\"Charlie's Angels\" featured whi...</td>\n",
       "    </tr>\n",
       "    <tr>\n",
       "      <th>9</th>\n",
       "      <td>In July 2002, Beyoncé continued her acting car...</td>\n",
       "      <td>[{'question': 'Who did Beyonce star with in th...</td>\n",
       "    </tr>\n",
       "  </tbody>\n",
       "</table>\n",
       "</div>"
      ],
      "text/plain": [
       "                                             context  \\\n",
       "0  Beyoncé Giselle Knowles-Carter (/biːˈjɒnseɪ/ b...   \n",
       "1  Following the disbandment of Destiny's Child i...   \n",
       "2  A self-described \"modern-day feminist\", Beyonc...   \n",
       "3  Beyoncé Giselle Knowles was born in Houston, T...   \n",
       "4  Beyoncé attended St. Mary's Elementary School ...   \n",
       "5  At age eight, Beyoncé and childhood friend Kel...   \n",
       "6  The group changed their name to Destiny's Chil...   \n",
       "7  LeToya Luckett and Roberson became unhappy wit...   \n",
       "8  The remaining band members recorded \"Independe...   \n",
       "9  In July 2002, Beyoncé continued her acting car...   \n",
       "\n",
       "                                                 qas  \n",
       "0  [{'question': 'When did Beyonce start becoming...  \n",
       "1  [{'question': 'After her second solo album, wh...  \n",
       "2  [{'question': 'In her music, what are some rec...  \n",
       "3  [{'question': 'Beyonce's younger sibling also ...  \n",
       "4  [{'question': 'What town did Beyonce go to sch...  \n",
       "5  [{'question': 'Who decided to place Beyonce's ...  \n",
       "6  [{'question': 'Which film featured Destiny's C...  \n",
       "7  [{'question': 'What mental health issue did Be...  \n",
       "8  [{'question': '\"Charlie's Angels\" featured whi...  \n",
       "9  [{'question': 'Who did Beyonce star with in th...  "
      ]
     },
     "execution_count": 6,
     "metadata": {},
     "output_type": "execute_result"
    }
   ],
   "source": [
    "df.head(10)"
   ]
  },
  {
   "cell_type": "code",
   "execution_count": 33,
   "metadata": {},
   "outputs": [],
   "source": [
    "ctxt=[]\n",
    "q1=[]\n",
    "idd1=[]\n",
    "anw1=[]\n",
    "is_impossible1=[]\n",
    "for i in range(len(df['qas'])):\n",
    "    r=df.iloc[i]['context']\n",
    "    qa=df.iloc[i]['qas']\n",
    "    for j in qa:\n",
    "        for k,v in j.items():\n",
    "            #print(\"La clé {} contient la valeur {}.\".format(k, v))\n",
    "            if k=='question':\n",
    "                q1.append(v)\n",
    "                ctxt.append(r)\n",
    "            if k=='id':\n",
    "                idd1.append(v)\n",
    "            if k=='answers':\n",
    "                anw1.append(v)\n",
    "            if k=='is_impossible':\n",
    "                is_impossible1.append(v)\n",
    "            "
   ]
  },
  {
   "cell_type": "code",
   "execution_count": 34,
   "metadata": {},
   "outputs": [],
   "source": [
    "anwtxt=[]\n",
    "anwst=[]\n",
    "for i in anw1:\n",
    "    for j in i:\n",
    "        for key,val in j.items():\n",
    "            #print(\"La clé {} contient la valeur {}.\".format(key, val))\n",
    "            if key=='text':\n",
    "                anwtxt.append(val) \n",
    "            if key=='answer_start':\n",
    "                anwst.append(val)"
   ]
  },
  {
   "cell_type": "code",
   "execution_count": 35,
   "metadata": {},
   "outputs": [],
   "source": [
    "dfQA = pd.DataFrame(list(zip(ctxt,q1, anwtxt,anwst,is_impossible1 )), columns =['context','question','answer','answerstart','is_impossible'])"
   ]
  },
  {
   "cell_type": "code",
   "execution_count": 36,
   "metadata": {},
   "outputs": [
    {
     "data": {
      "text/html": [
       "<div>\n",
       "<style scoped>\n",
       "    .dataframe tbody tr th:only-of-type {\n",
       "        vertical-align: middle;\n",
       "    }\n",
       "\n",
       "    .dataframe tbody tr th {\n",
       "        vertical-align: top;\n",
       "    }\n",
       "\n",
       "    .dataframe thead th {\n",
       "        text-align: right;\n",
       "    }\n",
       "</style>\n",
       "<table border=\"1\" class=\"dataframe\">\n",
       "  <thead>\n",
       "    <tr style=\"text-align: right;\">\n",
       "      <th></th>\n",
       "      <th>context</th>\n",
       "      <th>question</th>\n",
       "      <th>answer</th>\n",
       "      <th>answerstart</th>\n",
       "      <th>is_impossible</th>\n",
       "    </tr>\n",
       "  </thead>\n",
       "  <tbody>\n",
       "    <tr>\n",
       "      <th>0</th>\n",
       "      <td>Beyoncé Giselle Knowles-Carter (/biːˈjɒnseɪ/ b...</td>\n",
       "      <td>When did Beyonce start becoming popular?</td>\n",
       "      <td>in the late 1990s</td>\n",
       "      <td>269</td>\n",
       "      <td>False</td>\n",
       "    </tr>\n",
       "    <tr>\n",
       "      <th>1</th>\n",
       "      <td>Beyoncé Giselle Knowles-Carter (/biːˈjɒnseɪ/ b...</td>\n",
       "      <td>What areas did Beyonce compete in when she was...</td>\n",
       "      <td>singing and dancing</td>\n",
       "      <td>207</td>\n",
       "      <td>False</td>\n",
       "    </tr>\n",
       "    <tr>\n",
       "      <th>2</th>\n",
       "      <td>Beyoncé Giselle Knowles-Carter (/biːˈjɒnseɪ/ b...</td>\n",
       "      <td>When did Beyonce leave Destiny's Child and bec...</td>\n",
       "      <td>2003</td>\n",
       "      <td>526</td>\n",
       "      <td>False</td>\n",
       "    </tr>\n",
       "    <tr>\n",
       "      <th>3</th>\n",
       "      <td>Beyoncé Giselle Knowles-Carter (/biːˈjɒnseɪ/ b...</td>\n",
       "      <td>In what city and state did Beyonce  grow up?</td>\n",
       "      <td>Houston, Texas</td>\n",
       "      <td>166</td>\n",
       "      <td>False</td>\n",
       "    </tr>\n",
       "    <tr>\n",
       "      <th>4</th>\n",
       "      <td>Beyoncé Giselle Knowles-Carter (/biːˈjɒnseɪ/ b...</td>\n",
       "      <td>In which decade did Beyonce become famous?</td>\n",
       "      <td>late 1990s</td>\n",
       "      <td>276</td>\n",
       "      <td>False</td>\n",
       "    </tr>\n",
       "    <tr>\n",
       "      <th>5</th>\n",
       "      <td>Beyoncé Giselle Knowles-Carter (/biːˈjɒnseɪ/ b...</td>\n",
       "      <td>In what R&amp;B group was she the lead singer?</td>\n",
       "      <td>Destiny's Child</td>\n",
       "      <td>320</td>\n",
       "      <td>False</td>\n",
       "    </tr>\n",
       "    <tr>\n",
       "      <th>6</th>\n",
       "      <td>Beyoncé Giselle Knowles-Carter (/biːˈjɒnseɪ/ b...</td>\n",
       "      <td>What album made her a worldwide known artist?</td>\n",
       "      <td>Dangerously in Love</td>\n",
       "      <td>505</td>\n",
       "      <td>False</td>\n",
       "    </tr>\n",
       "    <tr>\n",
       "      <th>7</th>\n",
       "      <td>Beyoncé Giselle Knowles-Carter (/biːˈjɒnseɪ/ b...</td>\n",
       "      <td>Who managed the Destiny's Child group?</td>\n",
       "      <td>Mathew Knowles</td>\n",
       "      <td>360</td>\n",
       "      <td>False</td>\n",
       "    </tr>\n",
       "    <tr>\n",
       "      <th>8</th>\n",
       "      <td>Beyoncé Giselle Knowles-Carter (/biːˈjɒnseɪ/ b...</td>\n",
       "      <td>When did Beyoncé rise to fame?</td>\n",
       "      <td>late 1990s</td>\n",
       "      <td>276</td>\n",
       "      <td>False</td>\n",
       "    </tr>\n",
       "    <tr>\n",
       "      <th>9</th>\n",
       "      <td>Beyoncé Giselle Knowles-Carter (/biːˈjɒnseɪ/ b...</td>\n",
       "      <td>What role did Beyoncé have in Destiny's Child?</td>\n",
       "      <td>lead singer</td>\n",
       "      <td>290</td>\n",
       "      <td>False</td>\n",
       "    </tr>\n",
       "  </tbody>\n",
       "</table>\n",
       "</div>"
      ],
      "text/plain": [
       "                                             context  \\\n",
       "0  Beyoncé Giselle Knowles-Carter (/biːˈjɒnseɪ/ b...   \n",
       "1  Beyoncé Giselle Knowles-Carter (/biːˈjɒnseɪ/ b...   \n",
       "2  Beyoncé Giselle Knowles-Carter (/biːˈjɒnseɪ/ b...   \n",
       "3  Beyoncé Giselle Knowles-Carter (/biːˈjɒnseɪ/ b...   \n",
       "4  Beyoncé Giselle Knowles-Carter (/biːˈjɒnseɪ/ b...   \n",
       "5  Beyoncé Giselle Knowles-Carter (/biːˈjɒnseɪ/ b...   \n",
       "6  Beyoncé Giselle Knowles-Carter (/biːˈjɒnseɪ/ b...   \n",
       "7  Beyoncé Giselle Knowles-Carter (/biːˈjɒnseɪ/ b...   \n",
       "8  Beyoncé Giselle Knowles-Carter (/biːˈjɒnseɪ/ b...   \n",
       "9  Beyoncé Giselle Knowles-Carter (/biːˈjɒnseɪ/ b...   \n",
       "\n",
       "                                            question               answer  \\\n",
       "0           When did Beyonce start becoming popular?    in the late 1990s   \n",
       "1  What areas did Beyonce compete in when she was...  singing and dancing   \n",
       "2  When did Beyonce leave Destiny's Child and bec...                 2003   \n",
       "3      In what city and state did Beyonce  grow up?        Houston, Texas   \n",
       "4         In which decade did Beyonce become famous?           late 1990s   \n",
       "5         In what R&B group was she the lead singer?      Destiny's Child   \n",
       "6      What album made her a worldwide known artist?  Dangerously in Love   \n",
       "7             Who managed the Destiny's Child group?       Mathew Knowles   \n",
       "8                     When did Beyoncé rise to fame?           late 1990s   \n",
       "9     What role did Beyoncé have in Destiny's Child?          lead singer   \n",
       "\n",
       "   answerstart  is_impossible  \n",
       "0          269          False  \n",
       "1          207          False  \n",
       "2          526          False  \n",
       "3          166          False  \n",
       "4          276          False  \n",
       "5          320          False  \n",
       "6          505          False  \n",
       "7          360          False  \n",
       "8          276          False  \n",
       "9          290          False  "
      ]
     },
     "execution_count": 36,
     "metadata": {},
     "output_type": "execute_result"
    }
   ],
   "source": [
    "dfQA.head(10)"
   ]
  },
  {
   "cell_type": "raw",
   "metadata": {},
   "source": [
    "Data cleaning and processing"
   ]
  },
  {
   "cell_type": "code",
   "execution_count": 11,
   "metadata": {},
   "outputs": [],
   "source": [
    "import re\n",
    "from nltk.corpus import stopwords\n",
    "STOPWORDS = set(stopwords.words('english'))\n",
    "def clean(text):\n",
    "    text = text.lower()\n",
    "    text = re.sub('[^a-zA-Z]', ' ', text)\n",
    "    text = re.sub(r'\\s+', ' ', text)\n",
    "    text = ' '.join(word for word in text.split() if word not in STOPWORDS)\n",
    "    return text\n",
    "\n",
    "df['process_context'] = df['context'].apply(clean)\n"
   ]
  },
  {
   "cell_type": "code",
   "execution_count": 12,
   "metadata": {},
   "outputs": [],
   "source": [
    "# Preparing the dataset\n",
    "\n",
    "from nltk.tokenize import sent_tokenize\n",
    "from nltk.tokenize import word_tokenize\n",
    "df['process_context_SentdTok']= [sent_tokenize(str(entry)) for entry in df['process_context']]\n",
    "df['process_context_WordTok']=[word_tokenize(str(entry)) for entry in df['process_context']]\n"
   ]
  },
  {
   "cell_type": "markdown",
   "metadata": {},
   "source": [
    "# word embedding function"
   ]
  },
  {
   "cell_type": "raw",
   "metadata": {},
   "source": [
    "Word2vec"
   ]
  },
  {
   "cell_type": "code",
   "execution_count": 13,
   "metadata": {},
   "outputs": [],
   "source": [
    "#Ne marche pas pour une raison inexplicable\n",
    "from gensim.models import Word2Vec"
   ]
  },
  {
   "cell_type": "code",
   "execution_count": 22,
   "metadata": {},
   "outputs": [
    {
     "name": "stdout",
     "output_type": "stream",
     "text": [
      "Model Saved\n"
     ]
    }
   ],
   "source": [
    "W2model= Word2Vec(df['process_context_WordTok'], min_count=5,iter=50)\n",
    "W2model.save(\"W2v.model\")\n",
    "print(\"Model Saved\")"
   ]
  },
  {
   "cell_type": "code",
   "execution_count": 23,
   "metadata": {},
   "outputs": [
    {
     "data": {
      "text/plain": [
       "[('genre', 0.5759110450744629),\n",
       " ('genres', 0.564185619354248),\n",
       " ('melodies', 0.544532835483551),\n",
       " ('jazz', 0.5368236899375916),\n",
       " ('lyrics', 0.5237343311309814),\n",
       " ('songs', 0.5207332372665405),\n",
       " ('musical', 0.5198172330856323),\n",
       " ('pop', 0.5194613933563232),\n",
       " ('folk', 0.5117992758750916),\n",
       " ('mandolin', 0.5117467641830444)]"
      ]
     },
     "execution_count": 23,
     "metadata": {},
     "output_type": "execute_result"
    }
   ],
   "source": [
    "sim_words = W2model.wv.most_similar(\"music\")\n",
    "sim_words"
   ]
  },
  {
   "cell_type": "code",
   "execution_count": 15,
   "metadata": {},
   "outputs": [],
   "source": [
    "from gensim.models import word2vec\n",
    "tokenized_sentences = [sentence.split() for sentence in df['process_context'] ]\n",
    "modelSent = word2vec.Word2Vec(tokenized_sentences, min_count=5,iter=50)"
   ]
  },
  {
   "cell_type": "code",
   "execution_count": 16,
   "metadata": {},
   "outputs": [
    {
     "data": {
      "text/plain": [
       "[('jazz', 0.5492678880691528),\n",
       " ('genres', 0.5483729839324951),\n",
       " ('songs', 0.5438870191574097),\n",
       " ('genre', 0.5422179698944092),\n",
       " ('instrumental', 0.5360028743743896),\n",
       " ('musical', 0.5308642983436584),\n",
       " ('dance', 0.5256602764129639),\n",
       " ('lyrics', 0.5146111845970154),\n",
       " ('melodies', 0.514244794845581),\n",
       " ('musicians', 0.513271689414978)]"
      ]
     },
     "execution_count": 16,
     "metadata": {},
     "output_type": "execute_result"
    }
   ],
   "source": [
    "sim_words = modelSent.wv.most_similar(\"music\")\n",
    "sim_words"
   ]
  },
  {
   "cell_type": "raw",
   "metadata": {},
   "source": [
    "doc2vec model"
   ]
  },
  {
   "cell_type": "code",
   "execution_count": null,
   "metadata": {},
   "outputs": [],
   "source": [
    "import nltk"
   ]
  },
  {
   "cell_type": "code",
   "execution_count": 14,
   "metadata": {},
   "outputs": [],
   "source": [
    "from nltk import RegexpTokenizer\n",
    "from nltk.corpus import stopwords\n",
    "from os import listdir\n",
    "from os.path import isfile, join\n",
    "from gensim.models.doc2vec import Doc2Vec, TaggedDocument\n",
    "from nltk.tokenize import word_tokenize"
   ]
  },
  {
   "cell_type": "code",
   "execution_count": null,
   "metadata": {},
   "outputs": [],
   "source": [
    "#same cleaning to be equale \n",
    "#so i do not clean i keep the word tokenisation"
   ]
  },
  {
   "cell_type": "code",
   "execution_count": 76,
   "metadata": {},
   "outputs": [],
   "source": [
    "modelDc = Doc2Vec.load(\"d2v.model\")"
   ]
  },
  {
   "cell_type": "code",
   "execution_count": 15,
   "metadata": {},
   "outputs": [],
   "source": [
    " hyperparams  = {\n",
    "        'size': [10,50,100, 200],\n",
    "        'min_count': [2,5,15,20],\n",
    "        'iter': [20,50,100,150],\n",
    "        'window': [4, 5, 6, 7],\n",
    "        'alpha': [0.025,0.01,0.03,0.05],\n",
    "    }"
   ]
  },
  {
   "cell_type": "code",
   "execution_count": 91,
   "metadata": {},
   "outputs": [],
   "source": [
    "def start_training(hyperparams, train_corpus):\n",
    "    tagged = [TaggedDocument(words=word_tokenize(_d.lower()), tags=[str(i)]) for i, _d in enumerate(train_corpus)]\n",
    "    for i in range (0,4):\n",
    "        model = Doc2Vec(size=hyperparams['size'][i], min_count=hyperparams['min_count'][i], iter=hyperparams['iter'][i], workers=4, window=hyperparams['window'][i], alpha=hyperparams['alpha'][i])\n",
    "        print(\"Building vocabulary\")\n",
    "        print(\"size : {} min count : {} ite : {} windows {} alpha value {}\".format(hyperparams['size'][i],hyperparams['min_count'][i],hyperparams['iter'][i],hyperparams['window'][i],hyperparams['alpha'][i]))\n",
    "        #model.random.seed(0)\n",
    "        model.build_vocab(tagged)\n",
    "        print(\"Training the model\")\n",
    "        print(model)\n",
    "        model.train(tagged, total_examples=model.corpus_count, epochs=model.iter)\n",
    "        model.save(\"d2v.model\"+str(i))\n",
    "        print(\"Model Saved\")\n",
    "    return tagged"
   ]
  },
  {
   "cell_type": "code",
   "execution_count": 92,
   "metadata": {
    "scrolled": true
   },
   "outputs": [
    {
     "name": "stderr",
     "output_type": "stream",
     "text": [
      "//anaconda3/lib/python3.7/site-packages/gensim/models/doc2vec.py:570: UserWarning: The parameter `iter` is deprecated, will be removed in 4.0.0, use `epochs` instead.\n",
      "  warnings.warn(\"The parameter `iter` is deprecated, will be removed in 4.0.0, use `epochs` instead.\")\n",
      "//anaconda3/lib/python3.7/site-packages/gensim/models/doc2vec.py:574: UserWarning: The parameter `size` is deprecated, will be removed in 4.0.0, use `vector_size` instead.\n",
      "  warnings.warn(\"The parameter `size` is deprecated, will be removed in 4.0.0, use `vector_size` instead.\")\n"
     ]
    },
    {
     "name": "stdout",
     "output_type": "stream",
     "text": [
      "Building vocabulary\n",
      "size : 10 min count : 2 ite : 20 windows 4 alpha value 0.025\n",
      "Training the model\n",
      "Doc2Vec(dm/m,d10,n5,w4,mc2,s0.001,t4)\n"
     ]
    },
    {
     "name": "stderr",
     "output_type": "stream",
     "text": [
      "//anaconda3/lib/python3.7/site-packages/ipykernel_launcher.py:11: DeprecationWarning: Call to deprecated `iter` (Attribute will be removed in 4.0.0, use self.epochs instead).\n",
      "  # This is added back by InteractiveShellApp.init_path()\n"
     ]
    },
    {
     "name": "stdout",
     "output_type": "stream",
     "text": [
      "Model Saved\n",
      "Building vocabulary\n",
      "size : 50 min count : 5 ite : 50 windows 5 alpha value 0.01\n"
     ]
    },
    {
     "name": "stderr",
     "output_type": "stream",
     "text": [
      "//anaconda3/lib/python3.7/site-packages/gensim/models/doc2vec.py:570: UserWarning: The parameter `iter` is deprecated, will be removed in 4.0.0, use `epochs` instead.\n",
      "  warnings.warn(\"The parameter `iter` is deprecated, will be removed in 4.0.0, use `epochs` instead.\")\n",
      "//anaconda3/lib/python3.7/site-packages/gensim/models/doc2vec.py:574: UserWarning: The parameter `size` is deprecated, will be removed in 4.0.0, use `vector_size` instead.\n",
      "  warnings.warn(\"The parameter `size` is deprecated, will be removed in 4.0.0, use `vector_size` instead.\")\n"
     ]
    },
    {
     "name": "stdout",
     "output_type": "stream",
     "text": [
      "Training the model\n",
      "Doc2Vec(dm/m,d50,n5,w5,mc5,s0.001,t4)\n"
     ]
    },
    {
     "name": "stderr",
     "output_type": "stream",
     "text": [
      "//anaconda3/lib/python3.7/site-packages/ipykernel_launcher.py:11: DeprecationWarning: Call to deprecated `iter` (Attribute will be removed in 4.0.0, use self.epochs instead).\n",
      "  # This is added back by InteractiveShellApp.init_path()\n"
     ]
    },
    {
     "name": "stdout",
     "output_type": "stream",
     "text": [
      "Model Saved\n",
      "Building vocabulary\n",
      "size : 100 min count : 15 ite : 100 windows 6 alpha value 0.03\n"
     ]
    },
    {
     "name": "stderr",
     "output_type": "stream",
     "text": [
      "//anaconda3/lib/python3.7/site-packages/gensim/models/doc2vec.py:570: UserWarning: The parameter `iter` is deprecated, will be removed in 4.0.0, use `epochs` instead.\n",
      "  warnings.warn(\"The parameter `iter` is deprecated, will be removed in 4.0.0, use `epochs` instead.\")\n",
      "//anaconda3/lib/python3.7/site-packages/gensim/models/doc2vec.py:574: UserWarning: The parameter `size` is deprecated, will be removed in 4.0.0, use `vector_size` instead.\n",
      "  warnings.warn(\"The parameter `size` is deprecated, will be removed in 4.0.0, use `vector_size` instead.\")\n"
     ]
    },
    {
     "name": "stdout",
     "output_type": "stream",
     "text": [
      "Training the model\n",
      "Doc2Vec(dm/m,d100,n5,w6,mc15,s0.001,t4)\n"
     ]
    },
    {
     "name": "stderr",
     "output_type": "stream",
     "text": [
      "//anaconda3/lib/python3.7/site-packages/ipykernel_launcher.py:11: DeprecationWarning: Call to deprecated `iter` (Attribute will be removed in 4.0.0, use self.epochs instead).\n",
      "  # This is added back by InteractiveShellApp.init_path()\n"
     ]
    },
    {
     "name": "stdout",
     "output_type": "stream",
     "text": [
      "Model Saved\n",
      "Building vocabulary\n",
      "size : 200 min count : 20 ite : 150 windows 7 alpha value 0.05\n"
     ]
    },
    {
     "name": "stderr",
     "output_type": "stream",
     "text": [
      "//anaconda3/lib/python3.7/site-packages/gensim/models/doc2vec.py:570: UserWarning: The parameter `iter` is deprecated, will be removed in 4.0.0, use `epochs` instead.\n",
      "  warnings.warn(\"The parameter `iter` is deprecated, will be removed in 4.0.0, use `epochs` instead.\")\n",
      "//anaconda3/lib/python3.7/site-packages/gensim/models/doc2vec.py:574: UserWarning: The parameter `size` is deprecated, will be removed in 4.0.0, use `vector_size` instead.\n",
      "  warnings.warn(\"The parameter `size` is deprecated, will be removed in 4.0.0, use `vector_size` instead.\")\n"
     ]
    },
    {
     "name": "stdout",
     "output_type": "stream",
     "text": [
      "Training the model\n",
      "Doc2Vec(dm/m,d200,n5,w7,mc20,s0.001,t4)\n"
     ]
    },
    {
     "name": "stderr",
     "output_type": "stream",
     "text": [
      "//anaconda3/lib/python3.7/site-packages/ipykernel_launcher.py:11: DeprecationWarning: Call to deprecated `iter` (Attribute will be removed in 4.0.0, use self.epochs instead).\n",
      "  # This is added back by InteractiveShellApp.init_path()\n"
     ]
    },
    {
     "name": "stdout",
     "output_type": "stream",
     "text": [
      "Model Saved\n"
     ]
    }
   ],
   "source": [
    "train_corpus=dfQA['context']\n",
    "tg=start_training(hyperparams, train_corpus)"
   ]
  },
  {
   "cell_type": "code",
   "execution_count": 93,
   "metadata": {},
   "outputs": [],
   "source": [
    "from gensim.models.doc2vec import Doc2Vec\n",
    "model0= Doc2Vec.load(\"d2v.model0\")\n",
    "model1=Doc2Vec.load(\"d2v.model1\")\n",
    "model2=Doc2Vec.load(\"d2v.model2\")\n",
    "model3=Doc2Vec.load(\"d2v.model3\")"
   ]
  },
  {
   "cell_type": "code",
   "execution_count": 103,
   "metadata": {},
   "outputs": [],
   "source": [
    "import wget\n",
    "url='https://raw.githubusercontent.com/tmikolov/word2vec/master/questions-words.txt'\n",
    "compTxt = wget.download(url)\n",
    "\n",
    "#W2v.model"
   ]
  },
  {
   "cell_type": "code",
   "execution_count": 104,
   "metadata": {},
   "outputs": [],
   "source": [
    "from gensim.test.utils import datapath\n",
    "similaritiesD20 = model0.wv.evaluate_word_pairs(datapath('wordsim353.tsv'))\n",
    "similaritiesD21 =model1.wv.evaluate_word_pairs(datapath('wordsim353.tsv'))\n",
    "similaritiesD22=model2.wv.evaluate_word_pairs(datapath('wordsim353.tsv'))\n",
    "similaritiesD23=model3.wv.evaluate_word_pairs(datapath('wordsim353.tsv'))"
   ]
  },
  {
   "cell_type": "code",
   "execution_count": 105,
   "metadata": {},
   "outputs": [
    {
     "name": "stdout",
     "output_type": "stream",
     "text": [
      "Model 0 correlation :((0.27977369647558953, 2.100635275759354e-07), SpearmanrResult(correlation=0.2978394411490589, pvalue=3.0096484808786666e-08), 5.6657223796034)\n",
      "\n",
      "Model 1 coorelation((0.374736336549233, 1.7827164615489603e-12), SpearmanrResult(correlation=0.37870118938702757, pvalue=9.953546864365974e-13), 6.232294617563739)\n",
      "\n",
      "Model 2 coorelation((0.2809910972369881, 4.337209111172394e-07), SpearmanrResult(correlation=0.24450772731715217, pvalue=1.2139814391754527e-05), 11.3314447592068)\n",
      "\n",
      "Model 3 coorelation((0.21728134260727436, 0.00012114960418890527), SpearmanrResult(correlation=0.17207124863438045, pvalue=0.002443981286046354), 12.747875354107649)\n"
     ]
    }
   ],
   "source": [
    "#deux premier chiffre pearson (tuple of (float, float)) – Pearson correlation coefficient with 2-tailed p-value.\n",
    "#interpret person correlation positive de 0.3 ce qui\n",
    "#a p-value ( ou niveau de significativité) de la corrélation \n",
    "#spearman (tuple of (float, float)) – Spearman rank-order correlation coefficient between the similarities from the dataset and the similarities produced by the model itself, with 2-tailed p-value\n",
    "#le dernier chiffre The ratio of pairs with unknown words.\n",
    "print(\"Model 0 correlation :\"+str(similaritiesD20)+\"\\n\"+\"\\n\"+\"Model 1 coorelation\"+str(similaritiesD21)+\"\\n\"+\"\\n\"+\"Model 2 coorelation\"+str(similaritiesD22)+\"\\n\"+\"\\n\"+\"Model 3 coorelation\"+str(similaritiesD23))\n",
    "\n"
   ]
  },
  {
   "cell_type": "code",
   "execution_count": 113,
   "metadata": {},
   "outputs": [
    {
     "name": "stdout",
     "output_type": "stream",
     "text": [
      "4631\n",
      "Test Document (4631): «W h a t   a l t i t u d e   d i d   t h e   S o l a r   R i s e r   r e a c h   i n   f e e t ?»\n",
      "\n",
      "suppose answer : \"In 1974, the unmanned AstroFlight Sunrise plane made the first solar flight. On 29 April 1979, the Solar Riser made the first flight in a solar-powered, fully controlled, man carrying flying machine, reaching an altitude of 40 feet (12 m). In 1980, the Gossamer Penguin made the first piloted flights powered solely by photovoltaics. This was quickly followed by the Solar Challenger which crossed the English Channel in July 1981. In 1990 Eric Scott Raymond in 21 hops flew from California to North Carolina using solar power. Developments then turned back to unmanned aerial vehicles (UAV) with the Pathfinder (1997) and subsequent designs, culminating in the Helios which set the altitude record for a non-rocket-propelled aircraft at 29,524 metres (96,864 ft) in 2001. The Zephyr, developed by BAE Systems, is the latest in a line of record-breaking solar aircraft, making a 54-hour flight in 2007, and month-long flights were envisioned by 2010. As of 2015, Solar Impulse, an electric aircraft, is currently circumnavigating the globe. It is a single-seat plane powered by solar cells and capable of taking off under its own power. The designed allows the aircraft to remain airborne for 36 hours.  \"\n",
      "For model 0 :\n",
      "SIMILAR/DISSIMILAR DOCS PER MODEL Doc2Vec(dm/m,d50,n5,w5,mc5,s0.001,t4):\n",
      "\n",
      "MOST ('18685', 0.5532351732254028): «much of the music recorded by singer-songwriters such as diana ross , james taylor , carly simon , carole king and janis ian got as much , if not more , airplay on this format than on top 40 stations . easy listening radio also began including songs by artists who had begun in other genres , such as rock and roll or r & b . in addition , several early disco songs , did well on the adult contemporary format .»\n",
      "\n"
     ]
    }
   ],
   "source": [
    "# Pick a random document from the test corpus and infer a vector from the model\n",
    "import random\n",
    "\n",
    "testcorps=dfQA['question']\n",
    "doc_id = random.randint(0, len(testcorps) - 1)\n",
    "\n",
    "\n",
    "inferred_vector = model1.infer_vector(testcorps[doc_id].split())\n",
    "\n",
    "sims = model1.docvecs.most_similar([inferred_vector], topn=len(model1.docvecs))\n",
    "\n",
    "\n",
    "print(doc_id)\n",
    "print('Test Document ({}): «{}»\\n'.format(doc_id, ' '.join(testcorps[doc_id])))\n",
    "print('suppose answer : \"{}  \"'.format(dfQA['context'][doc_id]))\n",
    "\n",
    "print('For model 0 :')\n",
    "print(u'SIMILAR/DISSIMILAR DOCS PER MODEL %s:\\n' % model1)\n",
    "for label, index in [('MOST', 0)]:\n",
    "    print(u'%s %s: «%s»\\n' % (label, sims[index], ' '.join(tg[int(sims[index][0])].words)))\n",
    "\n"
   ]
  },
  {
   "cell_type": "raw",
   "metadata": {},
   "source": [
    "implement FastText model"
   ]
  },
  {
   "cell_type": "code",
   "execution_count": 126,
   "metadata": {},
   "outputs": [],
   "source": [
    "from gensim.models.fasttext import FastText as FT"
   ]
  },
  {
   "cell_type": "code",
   "execution_count": 127,
   "metadata": {},
   "outputs": [
    {
     "name": "stdout",
     "output_type": "stream",
     "text": [
      "FastText Saved\n"
     ]
    }
   ],
   "source": [
    "dt=df['process_context_WordTok']\n",
    "ft_model = FT(dt,min_count=15,iter=50,sg=1)\n",
    "ft_model.save(\"FT.model\")\n",
    "print(\"FastText Saved\")\n"
   ]
  },
  {
   "cell_type": "code",
   "execution_count": 128,
   "metadata": {},
   "outputs": [
    {
     "name": "stdout",
     "output_type": "stream",
     "text": [
      "0.545319\n"
     ]
    }
   ],
   "source": [
    "print(ft_model.wv.similarity(w1='Beyonce', w2='album'))"
   ]
  },
  {
   "cell_type": "raw",
   "metadata": {},
   "source": [
    "Retrain on question"
   ]
  },
  {
   "cell_type": "code",
   "execution_count": 129,
   "metadata": {},
   "outputs": [],
   "source": [
    "dfQA['Question_WordTok']=[word_tokenize(str(entry)) for entry in dfQA['question']]\n",
    "new_word=dfQA['Question_WordTok']"
   ]
  },
  {
   "cell_type": "code",
   "execution_count": 130,
   "metadata": {},
   "outputs": [],
   "source": [
    "modelft2 = FT.load(\"FT.model\") #grab model\n",
    "modelft2.build_vocab(new_word, update=True) #update vocab"
   ]
  },
  {
   "cell_type": "code",
   "execution_count": 131,
   "metadata": {},
   "outputs": [],
   "source": [
    "from gensim.models.fasttext import FastText\n",
    "nwModel=modelft2.train(new_word, total_examples=len(new_word),epochs=15)"
   ]
  },
  {
   "cell_type": "code",
   "execution_count": 132,
   "metadata": {},
   "outputs": [
    {
     "name": "stdout",
     "output_type": "stream",
     "text": [
      "FastText Saved\n"
     ]
    }
   ],
   "source": [
    "modelft2.save(\"FT.modelQT\")\n",
    "print(\"FastText Saved\")"
   ]
  },
  {
   "cell_type": "code",
   "execution_count": 133,
   "metadata": {},
   "outputs": [
    {
     "data": {
      "text/plain": [
       "0.5679518"
      ]
     },
     "execution_count": 133,
     "metadata": {},
     "output_type": "execute_result"
    }
   ],
   "source": [
    "simQ=modelft2.wv.similarity(w1='Beyonce', w2='album')\n",
    "simQ"
   ]
  },
  {
   "cell_type": "code",
   "execution_count": 134,
   "metadata": {},
   "outputs": [],
   "source": [
    "dfQA['Answer_WordTok']=[word_tokenize(str(entry)) for entry in dfQA['answer']]\n",
    "newWO=dfQA['Answer_WordTok']"
   ]
  },
  {
   "cell_type": "code",
   "execution_count": 135,
   "metadata": {},
   "outputs": [],
   "source": [
    "modelft3 = FT.load(\"FT.modelQT\") #grab model\n",
    "modelft3.build_vocab(newWO, update=True) #update vocab"
   ]
  },
  {
   "cell_type": "code",
   "execution_count": 136,
   "metadata": {},
   "outputs": [],
   "source": [
    "modelft3.train(newWO, total_examples=len(newWO), epochs=15)"
   ]
  },
  {
   "cell_type": "code",
   "execution_count": 138,
   "metadata": {},
   "outputs": [
    {
     "data": {
      "text/plain": [
       "0.54094714"
      ]
     },
     "execution_count": 138,
     "metadata": {},
     "output_type": "execute_result"
    }
   ],
   "source": [
    "simA=modelft3.wv.similarity(w1='Beyonce', w2='album')\n",
    "simA"
   ]
  },
  {
   "cell_type": "code",
   "execution_count": 142,
   "metadata": {},
   "outputs": [
    {
     "name": "stderr",
     "output_type": "stream",
     "text": [
      "//anaconda3/lib/python3.7/site-packages/ipykernel_launcher.py:4: DeprecationWarning: Call to deprecated `n_similarity` (Method will be removed in 4.0.0, use self.wv.n_similarity() instead).\n",
      "  after removing the cwd from sys.path.\n"
     ]
    }
   ],
   "source": [
    "# n_similarity Compute cosine similarity between two sets of words\n",
    "sc=[]\n",
    "for i in range(len(dfQA['question'])):\n",
    "        score = modelft3.n_similarity(dfQA['question'][i],dfQA['answer'][i])\n",
    "        sc.append(score)\n",
    "        \n",
    "dfQA.insert(4, \"simFT\", sc, True)"
   ]
  },
  {
   "cell_type": "code",
   "execution_count": 143,
   "metadata": {},
   "outputs": [
    {
     "data": {
      "text/html": [
       "<div>\n",
       "<style scoped>\n",
       "    .dataframe tbody tr th:only-of-type {\n",
       "        vertical-align: middle;\n",
       "    }\n",
       "\n",
       "    .dataframe tbody tr th {\n",
       "        vertical-align: top;\n",
       "    }\n",
       "\n",
       "    .dataframe thead th {\n",
       "        text-align: right;\n",
       "    }\n",
       "</style>\n",
       "<table border=\"1\" class=\"dataframe\">\n",
       "  <thead>\n",
       "    <tr style=\"text-align: right;\">\n",
       "      <th></th>\n",
       "      <th>context</th>\n",
       "      <th>question</th>\n",
       "      <th>answer</th>\n",
       "      <th>answerstart</th>\n",
       "      <th>simFT</th>\n",
       "      <th>is_impossible</th>\n",
       "      <th>Question_WordTok</th>\n",
       "      <th>Answer_WordTok</th>\n",
       "    </tr>\n",
       "  </thead>\n",
       "  <tbody>\n",
       "    <tr>\n",
       "      <th>0</th>\n",
       "      <td>Beyoncé Giselle Knowles-Carter (/biːˈjɒnseɪ/ b...</td>\n",
       "      <td>When did Beyonce start becoming popular?</td>\n",
       "      <td>in the late 1990s</td>\n",
       "      <td>269</td>\n",
       "      <td>0.845988</td>\n",
       "      <td>False</td>\n",
       "      <td>[When, did, Beyonce, start, becoming, popular, ?]</td>\n",
       "      <td>[in, the, late, 1990s]</td>\n",
       "    </tr>\n",
       "    <tr>\n",
       "      <th>1</th>\n",
       "      <td>Beyoncé Giselle Knowles-Carter (/biːˈjɒnseɪ/ b...</td>\n",
       "      <td>What areas did Beyonce compete in when she was...</td>\n",
       "      <td>singing and dancing</td>\n",
       "      <td>207</td>\n",
       "      <td>0.911637</td>\n",
       "      <td>False</td>\n",
       "      <td>[What, areas, did, Beyonce, compete, in, when,...</td>\n",
       "      <td>[singing, and, dancing]</td>\n",
       "    </tr>\n",
       "    <tr>\n",
       "      <th>2</th>\n",
       "      <td>Beyoncé Giselle Knowles-Carter (/biːˈjɒnseɪ/ b...</td>\n",
       "      <td>When did Beyonce leave Destiny's Child and bec...</td>\n",
       "      <td>2003</td>\n",
       "      <td>526</td>\n",
       "      <td>0.465760</td>\n",
       "      <td>False</td>\n",
       "      <td>[When, did, Beyonce, leave, Destiny, 's, Child...</td>\n",
       "      <td>[2003]</td>\n",
       "    </tr>\n",
       "    <tr>\n",
       "      <th>3</th>\n",
       "      <td>Beyoncé Giselle Knowles-Carter (/biːˈjɒnseɪ/ b...</td>\n",
       "      <td>In what city and state did Beyonce  grow up?</td>\n",
       "      <td>Houston, Texas</td>\n",
       "      <td>166</td>\n",
       "      <td>0.852045</td>\n",
       "      <td>False</td>\n",
       "      <td>[In, what, city, and, state, did, Beyonce, gro...</td>\n",
       "      <td>[Houston, ,, Texas]</td>\n",
       "    </tr>\n",
       "    <tr>\n",
       "      <th>4</th>\n",
       "      <td>Beyoncé Giselle Knowles-Carter (/biːˈjɒnseɪ/ b...</td>\n",
       "      <td>In which decade did Beyonce become famous?</td>\n",
       "      <td>late 1990s</td>\n",
       "      <td>276</td>\n",
       "      <td>0.734666</td>\n",
       "      <td>False</td>\n",
       "      <td>[In, which, decade, did, Beyonce, become, famo...</td>\n",
       "      <td>[late, 1990s]</td>\n",
       "    </tr>\n",
       "    <tr>\n",
       "      <th>5</th>\n",
       "      <td>Beyoncé Giselle Knowles-Carter (/biːˈjɒnseɪ/ b...</td>\n",
       "      <td>In what R&amp;B group was she the lead singer?</td>\n",
       "      <td>Destiny's Child</td>\n",
       "      <td>320</td>\n",
       "      <td>0.910777</td>\n",
       "      <td>False</td>\n",
       "      <td>[In, what, R, &amp;, B, group, was, she, the, lead...</td>\n",
       "      <td>[Destiny, 's, Child]</td>\n",
       "    </tr>\n",
       "    <tr>\n",
       "      <th>6</th>\n",
       "      <td>Beyoncé Giselle Knowles-Carter (/biːˈjɒnseɪ/ b...</td>\n",
       "      <td>What album made her a worldwide known artist?</td>\n",
       "      <td>Dangerously in Love</td>\n",
       "      <td>505</td>\n",
       "      <td>0.920547</td>\n",
       "      <td>False</td>\n",
       "      <td>[What, album, made, her, a, worldwide, known, ...</td>\n",
       "      <td>[Dangerously, in, Love]</td>\n",
       "    </tr>\n",
       "    <tr>\n",
       "      <th>7</th>\n",
       "      <td>Beyoncé Giselle Knowles-Carter (/biːˈjɒnseɪ/ b...</td>\n",
       "      <td>Who managed the Destiny's Child group?</td>\n",
       "      <td>Mathew Knowles</td>\n",
       "      <td>360</td>\n",
       "      <td>0.955528</td>\n",
       "      <td>False</td>\n",
       "      <td>[Who, managed, the, Destiny, 's, Child, group, ?]</td>\n",
       "      <td>[Mathew, Knowles]</td>\n",
       "    </tr>\n",
       "    <tr>\n",
       "      <th>8</th>\n",
       "      <td>Beyoncé Giselle Knowles-Carter (/biːˈjɒnseɪ/ b...</td>\n",
       "      <td>When did Beyoncé rise to fame?</td>\n",
       "      <td>late 1990s</td>\n",
       "      <td>276</td>\n",
       "      <td>0.737506</td>\n",
       "      <td>False</td>\n",
       "      <td>[When, did, Beyoncé, rise, to, fame, ?]</td>\n",
       "      <td>[late, 1990s]</td>\n",
       "    </tr>\n",
       "    <tr>\n",
       "      <th>9</th>\n",
       "      <td>Beyoncé Giselle Knowles-Carter (/biːˈjɒnseɪ/ b...</td>\n",
       "      <td>What role did Beyoncé have in Destiny's Child?</td>\n",
       "      <td>lead singer</td>\n",
       "      <td>290</td>\n",
       "      <td>0.909132</td>\n",
       "      <td>False</td>\n",
       "      <td>[What, role, did, Beyoncé, have, in, Destiny, ...</td>\n",
       "      <td>[lead, singer]</td>\n",
       "    </tr>\n",
       "    <tr>\n",
       "      <th>10</th>\n",
       "      <td>Beyoncé Giselle Knowles-Carter (/biːˈjɒnseɪ/ b...</td>\n",
       "      <td>What was the first album Beyoncé released as a...</td>\n",
       "      <td>Dangerously in Love</td>\n",
       "      <td>505</td>\n",
       "      <td>0.911406</td>\n",
       "      <td>False</td>\n",
       "      <td>[What, was, the, first, album, Beyoncé, releas...</td>\n",
       "      <td>[Dangerously, in, Love]</td>\n",
       "    </tr>\n",
       "    <tr>\n",
       "      <th>11</th>\n",
       "      <td>Beyoncé Giselle Knowles-Carter (/biːˈjɒnseɪ/ b...</td>\n",
       "      <td>When did Beyoncé release Dangerously in Love?</td>\n",
       "      <td>2003</td>\n",
       "      <td>526</td>\n",
       "      <td>0.460839</td>\n",
       "      <td>False</td>\n",
       "      <td>[When, did, Beyoncé, release, Dangerously, in,...</td>\n",
       "      <td>[2003]</td>\n",
       "    </tr>\n",
       "    <tr>\n",
       "      <th>12</th>\n",
       "      <td>Beyoncé Giselle Knowles-Carter (/biːˈjɒnseɪ/ b...</td>\n",
       "      <td>How many Grammy awards did Beyoncé win for her...</td>\n",
       "      <td>five</td>\n",
       "      <td>590</td>\n",
       "      <td>0.817777</td>\n",
       "      <td>False</td>\n",
       "      <td>[How, many, Grammy, awards, did, Beyoncé, win,...</td>\n",
       "      <td>[five]</td>\n",
       "    </tr>\n",
       "    <tr>\n",
       "      <th>13</th>\n",
       "      <td>Beyoncé Giselle Knowles-Carter (/biːˈjɒnseɪ/ b...</td>\n",
       "      <td>What was Beyoncé's role in Destiny's Child?</td>\n",
       "      <td>lead singer</td>\n",
       "      <td>290</td>\n",
       "      <td>0.899218</td>\n",
       "      <td>False</td>\n",
       "      <td>[What, was, Beyoncé, 's, role, in, Destiny, 's...</td>\n",
       "      <td>[lead, singer]</td>\n",
       "    </tr>\n",
       "    <tr>\n",
       "      <th>14</th>\n",
       "      <td>Beyoncé Giselle Knowles-Carter (/biːˈjɒnseɪ/ b...</td>\n",
       "      <td>What was the name of Beyoncé's first solo album?</td>\n",
       "      <td>Dangerously in Love</td>\n",
       "      <td>505</td>\n",
       "      <td>0.919592</td>\n",
       "      <td>False</td>\n",
       "      <td>[What, was, the, name, of, Beyoncé, 's, first,...</td>\n",
       "      <td>[Dangerously, in, Love]</td>\n",
       "    </tr>\n",
       "  </tbody>\n",
       "</table>\n",
       "</div>"
      ],
      "text/plain": [
       "                                              context  \\\n",
       "0   Beyoncé Giselle Knowles-Carter (/biːˈjɒnseɪ/ b...   \n",
       "1   Beyoncé Giselle Knowles-Carter (/biːˈjɒnseɪ/ b...   \n",
       "2   Beyoncé Giselle Knowles-Carter (/biːˈjɒnseɪ/ b...   \n",
       "3   Beyoncé Giselle Knowles-Carter (/biːˈjɒnseɪ/ b...   \n",
       "4   Beyoncé Giselle Knowles-Carter (/biːˈjɒnseɪ/ b...   \n",
       "5   Beyoncé Giselle Knowles-Carter (/biːˈjɒnseɪ/ b...   \n",
       "6   Beyoncé Giselle Knowles-Carter (/biːˈjɒnseɪ/ b...   \n",
       "7   Beyoncé Giselle Knowles-Carter (/biːˈjɒnseɪ/ b...   \n",
       "8   Beyoncé Giselle Knowles-Carter (/biːˈjɒnseɪ/ b...   \n",
       "9   Beyoncé Giselle Knowles-Carter (/biːˈjɒnseɪ/ b...   \n",
       "10  Beyoncé Giselle Knowles-Carter (/biːˈjɒnseɪ/ b...   \n",
       "11  Beyoncé Giselle Knowles-Carter (/biːˈjɒnseɪ/ b...   \n",
       "12  Beyoncé Giselle Knowles-Carter (/biːˈjɒnseɪ/ b...   \n",
       "13  Beyoncé Giselle Knowles-Carter (/biːˈjɒnseɪ/ b...   \n",
       "14  Beyoncé Giselle Knowles-Carter (/biːˈjɒnseɪ/ b...   \n",
       "\n",
       "                                             question               answer  \\\n",
       "0            When did Beyonce start becoming popular?    in the late 1990s   \n",
       "1   What areas did Beyonce compete in when she was...  singing and dancing   \n",
       "2   When did Beyonce leave Destiny's Child and bec...                 2003   \n",
       "3       In what city and state did Beyonce  grow up?        Houston, Texas   \n",
       "4          In which decade did Beyonce become famous?           late 1990s   \n",
       "5          In what R&B group was she the lead singer?      Destiny's Child   \n",
       "6       What album made her a worldwide known artist?  Dangerously in Love   \n",
       "7              Who managed the Destiny's Child group?       Mathew Knowles   \n",
       "8                      When did Beyoncé rise to fame?           late 1990s   \n",
       "9      What role did Beyoncé have in Destiny's Child?          lead singer   \n",
       "10  What was the first album Beyoncé released as a...  Dangerously in Love   \n",
       "11      When did Beyoncé release Dangerously in Love?                 2003   \n",
       "12  How many Grammy awards did Beyoncé win for her...                 five   \n",
       "13        What was Beyoncé's role in Destiny's Child?          lead singer   \n",
       "14   What was the name of Beyoncé's first solo album?  Dangerously in Love   \n",
       "\n",
       "    answerstart     simFT  is_impossible  \\\n",
       "0           269  0.845988          False   \n",
       "1           207  0.911637          False   \n",
       "2           526  0.465760          False   \n",
       "3           166  0.852045          False   \n",
       "4           276  0.734666          False   \n",
       "5           320  0.910777          False   \n",
       "6           505  0.920547          False   \n",
       "7           360  0.955528          False   \n",
       "8           276  0.737506          False   \n",
       "9           290  0.909132          False   \n",
       "10          505  0.911406          False   \n",
       "11          526  0.460839          False   \n",
       "12          590  0.817777          False   \n",
       "13          290  0.899218          False   \n",
       "14          505  0.919592          False   \n",
       "\n",
       "                                     Question_WordTok           Answer_WordTok  \n",
       "0   [When, did, Beyonce, start, becoming, popular, ?]   [in, the, late, 1990s]  \n",
       "1   [What, areas, did, Beyonce, compete, in, when,...  [singing, and, dancing]  \n",
       "2   [When, did, Beyonce, leave, Destiny, 's, Child...                   [2003]  \n",
       "3   [In, what, city, and, state, did, Beyonce, gro...      [Houston, ,, Texas]  \n",
       "4   [In, which, decade, did, Beyonce, become, famo...            [late, 1990s]  \n",
       "5   [In, what, R, &, B, group, was, she, the, lead...     [Destiny, 's, Child]  \n",
       "6   [What, album, made, her, a, worldwide, known, ...  [Dangerously, in, Love]  \n",
       "7   [Who, managed, the, Destiny, 's, Child, group, ?]        [Mathew, Knowles]  \n",
       "8             [When, did, Beyoncé, rise, to, fame, ?]            [late, 1990s]  \n",
       "9   [What, role, did, Beyoncé, have, in, Destiny, ...           [lead, singer]  \n",
       "10  [What, was, the, first, album, Beyoncé, releas...  [Dangerously, in, Love]  \n",
       "11  [When, did, Beyoncé, release, Dangerously, in,...                   [2003]  \n",
       "12  [How, many, Grammy, awards, did, Beyoncé, win,...                   [five]  \n",
       "13  [What, was, Beyoncé, 's, role, in, Destiny, 's...           [lead, singer]  \n",
       "14  [What, was, the, name, of, Beyoncé, 's, first,...  [Dangerously, in, Love]  "
      ]
     },
     "execution_count": 143,
     "metadata": {},
     "output_type": "execute_result"
    }
   ],
   "source": [
    "dfQA.head(15)"
   ]
  }
 ],
 "metadata": {
  "kernelspec": {
   "display_name": "Python 3",
   "language": "python",
   "name": "python3"
  },
  "language_info": {
   "codemirror_mode": {
    "name": "ipython",
    "version": 3
   },
   "file_extension": ".py",
   "mimetype": "text/x-python",
   "name": "python",
   "nbconvert_exporter": "python",
   "pygments_lexer": "ipython3",
   "version": "3.7.3"
  }
 },
 "nbformat": 4,
 "nbformat_minor": 2
}
